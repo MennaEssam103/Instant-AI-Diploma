{
 "cells": [
  {
   "cell_type": "code",
   "execution_count": 18,
   "id": "d8651fa8",
   "metadata": {},
   "outputs": [
    {
     "name": "stdout",
     "output_type": "stream",
     "text": [
      "Output of Read function is \n",
      "10-3-2001\n",
      "10/3/2001\n",
      "\\d{2}[-|/]\\d{2}[-|/]\\d{4} \n",
      "\n",
      "\n"
     ]
    },
    {
     "data": {
      "text/plain": [
       "0"
      ]
     },
     "execution_count": 18,
     "metadata": {},
     "output_type": "execute_result"
    }
   ],
   "source": [
    "file1 = open(r\"D:\\Ai diploma\\task1.txt\",\"r\")\n",
    " \n",
    "print(\"Output of Read function is \")\n",
    "print(file1.read())\n",
    "print()\n",
    " \n",
    "file1.seek(0)"
   ]
  },
  {
   "cell_type": "code",
   "execution_count": null,
   "id": "368df359",
   "metadata": {},
   "outputs": [],
   "source": []
  }
 ],
 "metadata": {
  "kernelspec": {
   "display_name": "Python 3 (ipykernel)",
   "language": "python",
   "name": "python3"
  },
  "language_info": {
   "codemirror_mode": {
    "name": "ipython",
    "version": 3
   },
   "file_extension": ".py",
   "mimetype": "text/x-python",
   "name": "python",
   "nbconvert_exporter": "python",
   "pygments_lexer": "ipython3",
   "version": "3.10.9"
  }
 },
 "nbformat": 4,
 "nbformat_minor": 5
}
