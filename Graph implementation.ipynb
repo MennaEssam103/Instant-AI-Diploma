{
 "cells": [
  {
   "cell_type": "code",
   "execution_count": 1,
   "id": "58fa7982",
   "metadata": {},
   "outputs": [
    {
     "name": "stdout",
     "output_type": "stream",
     "text": [
      "Graph implementation in python is  {'c': ['b'], 'b': ['a', 'c', 'f'], 'e': ['a'], 'f': ['a', 'b'], 'a': ['b', 'd', 'f', 'e'], 'd': ['a']}\n"
     ]
    }
   ],
   "source": [
    "vertices = {'a' , 'b' , 'c' , 'd' , 'e' , 'f'}\n",
    "edges = {('a' , 'b') , ('a' , 'd') , ('a' , 'e') , ('a' , 'f') , ('b' , 'c') , ('b' , 'f')}\n",
    "graph = dict()\n",
    "for vertex in vertices :\n",
    "    graph[vertex]=[]\n",
    "for edge in edges :\n",
    "    v1 = edge[0]\n",
    "    v2 = edge[1]\n",
    "    graph[v1].append(v2)\n",
    "    graph[v2].append(v1)\n",
    "print(\"Graph implementation in python is \" , graph)"
   ]
  },
  {
   "cell_type": "code",
   "execution_count": null,
   "id": "1b3136da",
   "metadata": {},
   "outputs": [],
   "source": []
  }
 ],
 "metadata": {
  "kernelspec": {
   "display_name": "Python 3 (ipykernel)",
   "language": "python",
   "name": "python3"
  },
  "language_info": {
   "codemirror_mode": {
    "name": "ipython",
    "version": 3
   },
   "file_extension": ".py",
   "mimetype": "text/x-python",
   "name": "python",
   "nbconvert_exporter": "python",
   "pygments_lexer": "ipython3",
   "version": "3.10.9"
  }
 },
 "nbformat": 4,
 "nbformat_minor": 5
}
